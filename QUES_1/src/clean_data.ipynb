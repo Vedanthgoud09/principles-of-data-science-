{
  "cells": [
    {
      "cell_type": "code",
      "source": [
        "import pandas as pd\n",
        "\n",
        "# Read the raw table\n",
        "df = pd.read_csv(\"raw_frailty_data.csv\")\n",
        "print(df)\n"
      ],
      "metadata": {
        "colab": {
          "base_uri": "https://localhost:8080/"
        },
        "id": "g3-mz6r2w4Dn",
        "outputId": "e9403bbd-e029-4fbb-9bbc-50b5cccb54c7"
      },
      "id": "g3-mz6r2w4Dn",
      "execution_count": null,
      "outputs": [
        {
          "output_type": "stream",
          "name": "stdout",
          "text": [
            "   Height  Weight  Age  Grip strength Frailty\n",
            "0    65.8     112   30             30       N\n",
            "1    71.5     136   19             31       N\n",
            "2    69.4     153   45             29       N\n",
            "3    68.2     142   22             28       Y\n",
            "4    67.8     144   29             24       Y\n",
            "5    68.7     123   50             26       N\n",
            "6    69.8     141   51             22       Y\n",
            "7    70.1     136   23             20       Y\n",
            "8    67.9     112   17             19       N\n",
            "9    66.8     120   39             31       N\n"
          ]
        }
      ]
    },
    {
      "cell_type": "code",
      "source": [
        "df.rename(columns={'Grip strength': 'GripStrength'}, inplace=True)"
      ],
      "metadata": {
        "id": "tFxyZd1bw4AK"
      },
      "id": "tFxyZd1bw4AK",
      "execution_count": null,
      "outputs": []
    },
    {
      "cell_type": "code",
      "execution_count": null,
      "id": "f1ec070d-8940-472d-a4ba-6c93cb74f35c",
      "metadata": {
        "colab": {
          "base_uri": "https://localhost:8080/"
        },
        "id": "f1ec070d-8940-472d-a4ba-6c93cb74f35c",
        "outputId": "241f79dc-c9f3-4306-a937-0d34d7076395"
      },
      "outputs": [
        {
          "output_type": "stream",
          "name": "stdout",
          "text": [
            "   Height  Weight  Age  GripStrength Frailty\n",
            "0    65.8     112   30            30       N\n",
            "1    71.5     136   19            31       N\n",
            "2    69.4     153   45            29       N\n",
            "3    68.2     142   22            28       Y\n",
            "4    67.8     144   29            24       Y\n",
            "5    68.7     123   50            26       N\n",
            "6    69.8     141   51            22       Y\n",
            "7    70.1     136   23            20       Y\n",
            "8    67.9     112   17            19       N\n",
            "9    66.8     120   39            31       N\n"
          ]
        }
      ],
      "source": [
        "print(df.to_string())"
      ]
    },
    {
      "cell_type": "code",
      "execution_count": null,
      "id": "89b4cb66-0927-4acf-913e-a010d8a3a919",
      "metadata": {
        "id": "89b4cb66-0927-4acf-913e-a010d8a3a919",
        "outputId": "896942be-7a11-4b72-f79d-ece9d3e31e4c"
      },
      "outputs": [
        {
          "data": {
            "text/plain": [
              "Unnamed: 0.1     0\n",
              "Unnamed: 0       0\n",
              "Height           0\n",
              "Weight           0\n",
              "Age              0\n",
              "Grip Strength    0\n",
              "Frailty          0\n",
              "dtype: int64"
            ]
          },
          "execution_count": 4,
          "metadata": {},
          "output_type": "execute_result"
        }
      ],
      "source": [
        "data_frame.isnull().sum()"
      ]
    },
    {
      "cell_type": "code",
      "execution_count": null,
      "id": "163d0830-153e-49f8-a305-797cc7fd5cfa",
      "metadata": {
        "id": "163d0830-153e-49f8-a305-797cc7fd5cfa"
      },
      "outputs": [],
      "source": [
        "df.to_csv('clean_data.csv')"
      ]
    },
    {
      "cell_type": "code",
      "execution_count": null,
      "id": "717494a0-34e9-432b-b24f-4cfb370fe78b",
      "metadata": {
        "id": "717494a0-34e9-432b-b24f-4cfb370fe78b"
      },
      "outputs": [],
      "source": []
    }
  ],
  "metadata": {
    "kernelspec": {
      "display_name": "Python 3 (ipykernel)",
      "language": "python",
      "name": "python3"
    },
    "language_info": {
      "codemirror_mode": {
        "name": "ipython",
        "version": 3
      },
      "file_extension": ".py",
      "mimetype": "text/x-python",
      "name": "python",
      "nbconvert_exporter": "python",
      "pygments_lexer": "ipython3",
      "version": "3.11.2"
    },
    "colab": {
      "provenance": []
    }
  },
  "nbformat": 4,
  "nbformat_minor": 5
}